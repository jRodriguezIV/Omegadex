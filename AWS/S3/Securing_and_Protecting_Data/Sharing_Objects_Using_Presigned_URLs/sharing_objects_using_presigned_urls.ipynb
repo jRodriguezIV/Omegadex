{
 "cells": [
  {
   "cell_type": "markdown",
   "id": "6d90ce1e",
   "metadata": {},
   "source": [
    "# Sharing Objects Using Presigned URLs"
   ]
  },
  {
   "cell_type": "markdown",
   "id": "b08be58b",
   "metadata": {},
   "source": [
    "## Presigned URLs\n",
    "\n",
    "By default, all objects and buckets are private. Only the object owner has permission to access these objects. However, the object owner can share their objects with others who do not have AWS credentials. They can create a presigned URL to grant time-limited permission to download the objects. \n",
    "\n",
    "The main purpose of a presigned URL is to grant temporary access to the required object. When you create a presigned URL, you must provide your security credentials and specify the following:\n",
    "\n",
    "- Bucket name\n",
    "- Object key\n",
    "- HTTP method (PUT for uploading objects)\n",
    "- Expiration date and time\n",
    "\n",
    "Anyone who receives the presigned URL can then access the object. For example, if you have a video in your bucket and both the bucket and the object are private, you can share the video with others by generating a presigned URL. A presigned URL remains valid for a limited period of time, which is specified when the URL is generated. You can use presigned URLs to embed live links in HTML, which can be valid for up to seven days.\n",
    "\n",
    "A use case scenario for presigned URLs is that you can grant temporary access to your Amazon S3 resources. For example, you can embed a presigned URL on your website or alternatively use it in command line client (such as curl) to download objects. You could also programmatically generate a presigned URL to allow a user to upload an object to a bucket."
   ]
  },
  {
   "cell_type": "markdown",
   "id": "12ad22e8",
   "metadata": {},
   "source": [
    "### Permissions to the object\n",
    "\n",
    "Anyone with valid security credentials can create a presigned URL. However, to access an object successfully, the user creating the presigned URL must have permissions to perform the operation on the object that will be accessed using the presigned URL.\n",
    "\n",
    "### Credentials\n",
    "\n",
    "The credentials that you can use to create a presigned URL include:\n",
    "\n",
    "- IAM instance profile – Valid up to 6 hours\n",
    "- AWS Security Token Service – Valid up to 36 hours when signed with permanent credentials, such as the credentials of the AWS account root user or an IAM user\n",
    "- IAM user – Valid up to 7 days when using AWS Signature Version 4\n",
    "\n",
    "To create a presigned URL that's valid for up to 7 days, first designate IAM user credentials (the access key and secret access key) to the SDK that you're using. Then, generate a presigned URL using AWS Signature Version 4.\n",
    "\n",
    "### Token expiration\n",
    "\n",
    "If you created a presigned URL using a temporary token, the URL expires when the token expires, even if you created the URL with a later expiration time. \n",
    "\n",
    "### Tools required\n",
    "\n",
    "You can generate a presigned URL programmatically using the REST API, AWS CLI, and the AWS SDK for Java, .NET, Ruby, PHP, Node.js, Python, and Go."
   ]
  },
  {
   "cell_type": "markdown",
   "id": "2cab5777",
   "metadata": {},
   "source": []
  }
 ],
 "metadata": {
  "language_info": {
   "name": "python"
  }
 },
 "nbformat": 4,
 "nbformat_minor": 5
}
