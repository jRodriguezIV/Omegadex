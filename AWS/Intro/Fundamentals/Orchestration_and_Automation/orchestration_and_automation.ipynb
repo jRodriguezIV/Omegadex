{
 "cells": [
  {
   "cell_type": "markdown",
   "id": "88ec2ad6",
   "metadata": {},
   "source": [
    "# Orchestration and Automation Options #"
   ]
  },
  {
   "cell_type": "markdown",
   "id": "f12a90a9",
   "metadata": {},
   "source": [
    "As businesses increasingly rely on data analytics to make informed decisions, managing the complexity of data workflows, processing, and analysis becomes a significant challenge. Without efficient coordination and automation, data pipelines can become fragmented, error-prone, and time-consuming to manage. Additionally, scaling these processes to handle growing volumes of data can be daunting. \n",
    "\n",
    "Orchestration and automation can help solve these problems."
   ]
  },
  {
   "cell_type": "markdown",
   "id": "7e12e1d4",
   "metadata": {},
   "source": [
    "## Orchestration and automation ##\n",
    "\n",
    "- **Orchestration** is the process of coordinating multiple services to define and manage the flow of data through a series of steps. It involves defining workflows and dependencies between steps. \n",
    "\n",
    "\n",
    "- **Automation** refers to using tools and services to automate repetitive tasks related to data ingestion, processing, and analytics. \n",
    "\n",
    "- Automation is suitable for simple repetitive tasks. Orchestration is needed for complex workflows involving the coordination of multiple services, teams, and dependencies across stages.\n",
    "\n",
    "Typically, they are used together in analytics workflows. For example, orchestration could involve coordinating multiple automated tasks in a defined sequence. Together, orchestration and automation can streamline operations, improve reliability, and empower non-programmers to manage complex workflows. "
   ]
  },
  {
   "cell_type": "markdown",
   "id": "cd70f377",
   "metadata": {},
   "source": [
    "## Options for orchestration and automation ##\n",
    "Many AWS services can be used to orchestrate pipelines and workflows. They can be combined in nearly unlimited ways to meet very demanding requirements."
   ]
  },
  {
   "cell_type": "markdown",
   "id": "21f67c3e",
   "metadata": {},
   "source": [
    "**AWS Step Functions**\n",
    "Step Functions is a visual workflow service to orchestrate and automate workflows, pipelines, and processes. Step Functions ensures tasks run in the correct order. It does the following:\n",
    "\n",
    "- Orchestrates ETL workflows by connecting Lambda functions that extract the data from sources, transform it, and load it into databases and data lakes. \n",
    "- Runs batch jobs on data in AWS Glue, AWS EMR, or other services. \n",
    "- Processes streaming data by connecting Lambda functions processing data from Kinesis Data Streams or Amazon Data Firehose for real-time analytics."
   ]
  },
  {
   "cell_type": "markdown",
   "id": "9abbf441",
   "metadata": {},
   "source": [
    "**AWS Lambda**\n",
    "Lambda runs code (called Lambda functions) without provisioning or managing servers. Combined with Step Functions, Lambda functions can invoke AWS services and microservices and perform tasks to that are part of orchestrated workflows.\n",
    "\n",
    "- Lambda functions can be invoked by events from data sources like Amazon S3, DynamoDB, or Kinesis Data Streams to process incoming data in real time.\n",
    "- Step Functions can be used to orchestrate multiple Lambda functions for error handling, retries, and visualizations. \n",
    "- Lambda functions can be used in event-driven architectures with services like Amazon SNS and Amazon SQS to decouple and coordinate different analytics tasks."
   ]
  },
  {
   "cell_type": "markdown",
   "id": "c27eb69e",
   "metadata": {},
   "source": [
    "**Amazon MWAA**\n",
    "Amazon Managed Workflows for Apache Airflow (Amazon MWAA) can be used to orchestrate data analytics workflows on AWS.\n",
    "\n",
    "- Amazon MWAA workflows can be configured to ingest, process, transform, and load data into databases and data warehouses. Amazon MWAA can also be used to run queries on the data for analysis.\n",
    "- Amazon MWAA workflows handle dependencies, support parallel running of tasks, and ensure tasks run sequentially.\n",
    "- Through Amazon MWAA, Apache Airflow workers can be scaled dynamically based on workload."
   ]
  },
  {
   "cell_type": "markdown",
   "id": "61037a26",
   "metadata": {},
   "source": [
    "**Amazon EventBridge**\n",
    "Amazon EventBridge is a serverless service used to build event-driven applications. It employs loosely coupled applications that work together by emitting and responding to events. \n",
    "\n",
    "- EventBridge can ingest events from various sources, and then route these events to different targets for processing or action. Athena can run SQL queries, and Lambda functions can drive custom processing.\n",
    "- Events coming into EventBridge can invoke workflows in Step Functions, which coordinates multiple AWS services in a data processing pipeline. \n",
    "- EventBridge also supports built-in matching and routing rules that filter and transform events before delivering to targets. Therefore, event data can be pre-processed before analytics."
   ]
  },
  {
   "cell_type": "markdown",
   "id": "07594535",
   "metadata": {},
   "source": [
    "**Amazon SNS**\n",
    "Amazon Simple Notification Service (Amazon SNS) is a fully managed messaging service. With Amazon SNS, applications and services can send messages to multiple endpoints simultaneously through SNS topics. \n",
    "\n",
    "- SNS topics can be used to receive notifications and events from various data sources and AWS services. \n",
    "\n",
    "- These events invoke Step Functions workflows, which coordinate AWS services like AWS Glue, Amazon Redshift, and Athena for data processing and analytics pipelines.\n",
    "\n",
    "- Features like message durability, encryption, and archiving help improve reliability of analytics workflows and help recover from failures."
   ]
  },
  {
   "cell_type": "markdown",
   "id": "efbd02e5",
   "metadata": {},
   "source": [
    "**Amazon SQS**\n",
    "Amazon Simple Queue Service (Amazon SQS) is a managed message queuing service to send, store, and retrieve multiple messages of various sizes asynchronously. \n",
    "\n",
    "- Multiple users or systems can submit analytic jobs and tasks by sending messages to an SQS queue. This decouples the submitters from the jobs being processed.\n",
    "\n",
    "- Compute resources like EC2 instances can be designed to poll the SQS queue and pick up messages containing jobs. Processing can scale independently based on the number of messages in the queue.\n",
    "\n",
    "- Amazon SQS features include message attributes, dead letter queues, and integration with AWS Command Line Interface (AWS CLI) and SDKs. This makes Amazon SQS useful for building robust and scalable workflows."
   ]
  },
  {
   "cell_type": "markdown",
   "id": "37e7c93e",
   "metadata": {},
   "source": [
    "# Enhancing orchestration and automation #"
   ]
  },
  {
   "cell_type": "markdown",
   "id": "79ea1dd3",
   "metadata": {},
   "source": [
    "Two technologies can make orchestration and automation even more effective in data analytics workflows: Zero-ETL and serverless architectures.\n",
    "\n",
    "# Zero-ETL #\n",
    "Zero-ETL refers to an approach for data integration that minimizes or eliminates the need for ETL processes. With traditional ETL, data needs to be extracted from source systems, transformed or cleaned, and loaded into a data warehouse or data lake. These processes can be time-consuming and complex to develop and maintain. \n",
    "\n",
    "With zero-ETL integrations, data can be directly queried from its original sources without requiring data movement or transformation.\n",
    "\n",
    "Several AWS services support zero-ETL and can be used in orchestrated workflows."
   ]
  },
  {
   "cell_type": "markdown",
   "id": "d77f7bc9",
   "metadata": {},
   "source": [
    "**Amazon Athena**\n",
    "With Athena, data stored in Amazon S3 can be queried by using SQL commands. It does not need to be extracted and loaded elsewhere. Step Functions can orchestrate Lambda functions to process and analyze the query results from Athena in real time. "
   ]
  },
  {
   "cell_type": "markdown",
   "id": "3ffe0c06",
   "metadata": {},
   "source": [
    "**Amazon Redshift streaming ingestion**\n",
    "Amazon Redshift ingests streaming data in near real time at high throughput. Because it doesn't need to stage in Amazon S3, the need for some ETL tasks is eliminated."
   ]
  },
  {
   "cell_type": "markdown",
   "id": "94237518",
   "metadata": {},
   "source": [
    "**Amazon Aurora with Amazon Redshift**\n",
    "Replicate data from some Aurora sources to Amazon Redshift in near real time for analytics. Zero-ETL seamlessly makes that data available in Amazon Redshift and removes the need to build and maintain complex ETL pipelines. Check current Aurora product documentation for a list of supported sources."
   ]
  },
  {
   "cell_type": "markdown",
   "id": "72818444",
   "metadata": {},
   "source": [
    "**Amazon Redshift auto copy from Amazon S3**\n",
    "Continuously ingest new data files from Amazon S3 into Amazon Redshift with no manual intervention."
   ]
  },
  {
   "cell_type": "markdown",
   "id": "93975785",
   "metadata": {},
   "source": [
    "**Amazon OpenSearch Service**\n",
    "OpenSearch Service has zero-ETL integration with Amazon S3 for querying data directly in Amazon S3 without extracting to OpenSearch. This improves query performance for log analysis use cases."
   ]
  },
  {
   "cell_type": "markdown",
   "id": "c783f7d5",
   "metadata": {},
   "source": [
    "## Serverless architecture ##\n",
    "A serverless architecture is a way to build and run applications and services without having to manage infrastructure. Your application still runs on servers, but all the server management is done by AWS. Serverless architectures are extremely cost effective because you only pay for the actual time that your code is running.\n",
    "\n",
    "Efficiently orchestrated and automated workflows depend significantly on serverless applications.\n",
    "\n",
    "Many AWS services have serverless options or can be used in serverless workflows. "
   ]
  },
  {
   "cell_type": "markdown",
   "id": "214f84bf",
   "metadata": {},
   "source": [
    "**AWS Lambda**\n",
    "Lambda is the primary serverless AWS service. It runs code called Lambda functions without provisioning or managing servers. Lambda functions can be invoked by other services or events and can also invoke other services to perform tasks."
   ]
  },
  {
   "cell_type": "markdown",
   "id": "9ae0e836",
   "metadata": {},
   "source": [
    "**Amazon API Gateway**\n",
    "With API Gateway, you can create RESTful and HTTP APIs that can integrate with AWS Lambda functions. You can build serverless applications where the business logic is run with Lambda. "
   ]
  },
  {
   "cell_type": "markdown",
   "id": "20a6d122",
   "metadata": {},
   "source": [
    "**Amazon DynamoDB**\n",
    "DynamoDB is a fully managed NoSQL database that does not require you to provision or manage any servers. Lambda functions can perform operations directly on DynamoDB tables without having to manage any underlying infrastructure. "
   ]
  },
  {
   "cell_type": "markdown",
   "id": "0893f4b6",
   "metadata": {},
   "source": [
    "**Amazon S3**\n",
    "Serverless applications often use Amazon S3 for file storage and hosting static websites."
   ]
  },
  {
   "cell_type": "markdown",
   "id": "551b0bc3",
   "metadata": {},
   "source": [
    "**Amazon SNS**\n",
    "Use Amazon SNS in serverless workflows to facilitate asynchronous communication between different AWS services. \n",
    "\n",
    "\n",
    "\n",
    "For example, when you upload objects to Amazon S3, an Amazon S3 event can publish a message to an SNS topic. Lambda functions or other services can subscribe to this topic and process the object asynchronously."
   ]
  },
  {
   "cell_type": "markdown",
   "id": "4f5919f1",
   "metadata": {},
   "source": [
    "**Amazon SQS**\n",
    "Use SQS queues to connect serverless Lambda functions together into workflows. For example, a Lambda function could process a request and send a message to an SQS queue. That message could then invoke a separate Lambda function to perform further processing asynchronously."
   ]
  },
  {
   "cell_type": "markdown",
   "id": "d676c51a",
   "metadata": {},
   "source": [
    "**Amazon Redshift Serverless**\n",
    "Amazon Redshift Serverless automatically provisions and scales resources to meet demand. Analytics can run without setting up and managing data warehouse infrastructure."
   ]
  },
  {
   "cell_type": "markdown",
   "id": "521cc3e4",
   "metadata": {},
   "source": [
    "**Amazon EMR Serverless**\n",
    "With Amazon EMR Serverless, you don’t have to configure, optimize, secure, or operate clusters. You can avoid overprovisioning or underprovisioning resources for your data processing jobs."
   ]
  },
  {
   "cell_type": "markdown",
   "id": "2402c0b6",
   "metadata": {},
   "source": [
    "**AWS Glue**\n",
    "AWS Glue is a serverless data integration service. AWS Glue ETL jobs automatically scale. You don't need to manage infrastructure, and you only pay per use."
   ]
  },
  {
   "cell_type": "markdown",
   "id": "538ee6e8",
   "metadata": {},
   "source": [
    "**Amazon MSK Serverless**\n",
    "Amazon MSK offers a serverless option called MSK Serverless. With MSK Serverless, you can run Apache Kafka clusters without having to manage and scale infrastructure. It provides pay-per-use pricing, automatic scaling, and high availability."
   ]
  },
  {
   "cell_type": "markdown",
   "id": "9e40cb67",
   "metadata": {},
   "source": [
    "**Amazon OpenSearch Service Serverless**\n",
    "OpenSearch Service Serverless streamlines running petabyte-scale search and analytics workloads and automatically provisions and scales underlying resources without needing to manage or scale OpenSearch clusters."
   ]
  },
  {
   "cell_type": "markdown",
   "id": "48153e16",
   "metadata": {},
   "source": []
  }
 ],
 "metadata": {
  "language_info": {
   "name": "python"
  }
 },
 "nbformat": 4,
 "nbformat_minor": 5
}
