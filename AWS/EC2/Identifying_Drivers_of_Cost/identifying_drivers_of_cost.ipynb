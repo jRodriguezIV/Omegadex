{
 "cells": [
  {
   "cell_type": "markdown",
   "id": "8431d711",
   "metadata": {},
   "source": [
    "# Identifying the Drivers of Cost\n",
    "\n",
    "Sofía meets John in the finance department so they can discuss the project with Arnav Desai, the finance department's liaison for the AWS Cloud migration project. Sofía is looking for insight from Arnav that can help balance the cost of the project against concerns about high availability.\n"
   ]
  },
  {
   "cell_type": "markdown",
   "id": "bd1a47e7",
   "metadata": {},
   "source": [
    "## What drives the cost of a project?\n",
    "\n",
    "Arnav has a lot of insight into the thought process, components, and requirements that can accidentally drive up the cost of a project. He's broken it down into four main areas. Expand each of the following four sections to read about them.\n",
    "\n",
    "### Understand pricing fundamentals\n",
    "–\n",
    "When working with the AWS Cloud, there are three fundamental drivers of cost: compute, storage, and outbound data transfer. These characteristics vary somewhat, depending on which AWS services and pricing model you choose.\n",
    "\n",
    "\n",
    "\n",
    "For compute resources: You pay from the time you launch a resource until the time you terminate it, unless you have made a reservation, such as a Spot Instance, for which the cost is agreed upon beforehand.\n",
    "\n",
    "\n",
    "\n",
    "The storage costs depend on the type of service you use. \n",
    "\n",
    "- With Amazon S3, there are multiple storage classes that have different retention and pricing based on the storage tier you choose.\n",
    "- Amazon EFS offers four storage classes, where you pay for only the storage you use based on the storage class.\n",
    "- With Amazon Elastic Block Store (Amazon EBS), you pay only for what you provision, not what you use. If you provision a 10-GB volume and use 2 GB, you still pay for 10 GB. Volume storage for all EBS volume types is charged by the amount of gigabytes you provision per month until you release the storage. \n",
    "\n",
    "Data transfer costs: In most cases, there is no charge for inbound data transfer or for data transfer between other AWS services within the same Region. There are some exceptions, so be sure to verify data transfer rates before beginning. Outbound data transfer is aggregated across services and then charged at the outbound data transfer rate. The more data you transfer, the less you pay per gigabyte.\n",
    "\n",
    "## Balancing cost and availability\n",
    "–\n",
    "When beginning to estimate Amazon EC2 costs, there are some items to consider, such as instance type, pricing model, number of instances, load balancer cost, and software licensing. For more specific details on each of these items, see Estimating Amazon EC2 costs(opens in a new tab).\n",
    "\n",
    "\n",
    "\n",
    "Most administrators would love to have an environment that could scale endlessly without costing more, but the reality is that the more resources you use, the more costs you incur. It's critical to determine where your line is. Is cost or availability your business constraint? If it's availability, you are going to see larger bills for your workload. If you are working with a limited budget, then you need to determine which resources can do the job and provide your availability at the price you are willing to pay. Perhaps this means that you choose smaller instance types or instances with fewer cores or less memory. Perhaps this means you pick the desired instance but limit how many of them can be spawned in your auto scaling groups.\n",
    "\n",
    "\n",
    "\n",
    "Know your minimum functional limits and your maximum budget allocation and modify your testing to see which options provide the performance within your price point.\n",
    "\n",
    "## Compliance costs\n",
    "–\n",
    "Compliance requirements often add costs to your operating budget. Data retention policies that require certain types of data to be maintained for minimum time periods add storage costs. If you have compliance requirements for system uptimes and recovery times, you might need to run more instances, create more snapshots, or add AWS or third-party backup solutions to ensure that all your data can be recovered within the time period determined by whatever compliance framework your workload falls under.\n",
    "\n",
    "\n",
    "\n",
    "If you support an industry with compliance requirements, take time to add the cost and overhead into your usage estimates.\n",
    "\n",
    "Arnav takes out a whiteboard and begins to present the different pricing options for Amazon EC2. He reviewed these options once before with John, but he wants to make sure John has understood all of the pricing options and can explain the workloads that fit best for each one."
   ]
  },
  {
   "cell_type": "markdown",
   "id": "6a96247d",
   "metadata": {},
   "source": []
  }
 ],
 "metadata": {
  "language_info": {
   "name": "python"
  }
 },
 "nbformat": 4,
 "nbformat_minor": 5
}
