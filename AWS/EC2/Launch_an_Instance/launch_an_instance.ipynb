{
 "cells": [
  {
   "cell_type": "markdown",
   "id": "f44db4e5",
   "metadata": {},
   "source": [
    "# How to Launch an Instance"
   ]
  },
  {
   "cell_type": "markdown",
   "id": "78279eb6",
   "metadata": {},
   "source": [
    "## Launching an instance\n",
    "\n",
    "The most common ways to launch an instance are through the AWS Management Console, AWS Command Line Interface (AWS CLI), an AWS SDK, and as a custom Amazon Machine Image (AMI). If you want to build a more granular, consistent, repeatable, and modifiable environment, you can use authoring tools such as AWS CloudFormation or third-party tools such as Terraform that allow you to build infrastructure as code(opens in a new tab).\n",
    "\n",
    "John decides to start with the console to deploy his instances. As his knowledge and skillset increase, he will move to building instances with AWS CLI and eventually use CloudFormation to automate and standardize his Amazon EC2 environment. First, he will make notes on the important settings required to launch an instance.\n",
    "\n",
    "## Launching through the console\n",
    "\n",
    "There are four ways to launch an instance from the Amazon EC2 dashboard. To learn more about launching an instance, choose each of the following tabs.\n",
    "\n",
    "### Launch Wizard\n",
    "Launch an instance using the new launch instance wizard:(opens in a new tab)(opens in a new tab)(opens in a new tab) This is the fastest way to get started. Except for the key pair, the launch instance wizard provides default values for all of the parameters. You can accept any or all of the defaults, or configure an instance by specifying your own values for each parameter. The parameters are grouped in the launch instance wizard. The wizard walks you through deploying an EC2 instance.\n",
    "\n",
    "### Launch Template\n",
    "Launch an instance from a launch template(opens in a new tab): A launch template contains the configuration information to launch an instance and allows you to use the same template to launch multiple instances with the same settings.\n",
    "\n",
    "### Existing Instance\n",
    "Launch an instance using parameters from an existing instance: The Amazon EC2 console provides a launch wizard option that allows you to use a current instance as a base for launching other instances. This option automatically populates the Amazon EC2 launch wizard with certain configuration details from the selected instance.\n",
    "\n",
    "### AWS Marketplace\n",
    "Launch an AWS Marketplace instance(opens in a new tab): The AWS Marketplace(opens in a new tab) is a curated digital catalog that you can use to find, buy, deploy, and manage third-party software, data, and services. AMIs are available for purchase that come with preinstalled software configurations for a wide range of technologies.\n"
   ]
  },
  {
   "cell_type": "markdown",
   "id": "3d578413",
   "metadata": {},
   "source": [
    "## Gathering your information\n",
    "\n",
    "When launching an EC2 instance, your settings can be as simple or as specific as you want. Because this is John's first interaction with the launch wizard, he is going to use all of the defaults and then get more complex as the day progresses.\n",
    "\n",
    "When using the default settings, you must provide five required pieces of information for the instance to launch successfully.\n",
    "\n",
    "\n",
    "\n",
    "- Name of the instance: This is a useful moniker to remember the purpose or function of the instance.\n",
    "\n",
    "\n",
    "\n",
    "- Application and OS AMI: This is the image operating system type that you want to launch. This can be any supported version of Linux, Windows, or macOS.\n",
    "\n",
    "\n",
    "\n",
    "- Instance type: This is the instance family and hardware specifications that you require.\n",
    "\n",
    "\n",
    "\n",
    "- Key pair: This is a combination of a public key that is used to encrypt data and a private key that is used to decrypt data.\n",
    "\n",
    "\n",
    "\n",
    "- Security group rule: This controls the traffic and ports that are allowed into and out of your instances. "
   ]
  },
  {
   "cell_type": "markdown",
   "id": "550a8b80",
   "metadata": {},
   "source": [
    "## Key pairs\n",
    "\n",
    "A key pair, consisting of a public key and a private key, is a set of security credentials used to prove your identity when connecting to an EC2 instance. Amazon EC2 stores the public key on your instance, and you store the private key. For Linux instances, the private key allows you to securely connect into your instance by using SSH (Secure Shell).\n",
    "\n",
    "Anyone who possesses your private key can connect to your instances, so it's important that you store your private key in a secure place.\n",
    "\n",
    "When you launch an instance, you are prompted for a key pair. If you plan to connect to the instance using SSH, you must specify a key pair. You can choose an existing key pair or create a new one. When your instance boots for the first time, the public key that you specified at launch is placed on your Linux instance in an entry within ~/.ssh/authorized_keys. When you connect to your Linux instance using SSH, you must specify the private key that corresponds to the public key. \n",
    "\n",
    "Because Amazon EC2 doesn't keep a copy of your private key, there is no way to recover a private key if you lose it. (John makes sure to note this important information and place the key pair in a secure location.)\n",
    "\n"
   ]
  },
  {
   "cell_type": "markdown",
   "id": "e35aad11",
   "metadata": {},
   "source": [
    "## Launch templates \n",
    "\n",
    "John keeps noticing the term launch template. Both AMIs and launch templates contain information to launch an instance, but he can't figure out what the differences are. If both AMIs and launch templates contain the required information to launch an instance...why have both options?\n",
    "\n",
    "When using the launch wizard, after you specify the AMI, you must then specify all the other configuration options for the instance. For example, you must still choose the instance type, key pair, network settings, storage, and any additional advanced configuration options. Building an instance this way for a handful of instances doesn't require a lot of time. But doing this for hundreds of instances would cause too much administrative overhead. Knowing this, AWS provides the ability to build launch templates. A launch template contains all the configuration information necessary to launch an instance. Launch templates streamline and simplify the launch process. They reduce the number of steps required to create an instance by capturing all of the launch parameters within one resource. \n",
    "\n",
    "Launch templates simplify implementation of standards and best practices, help to better manage costs, improve your security posture, and minimize the risk of deployment errors.\n",
    "\n",
    "Now that John understands the difference between launch templates and the launch wizard, he thinks that launch templates are something he needs to look into for any large deployment projects. \n",
    "\n",
    "John has now successfully launched his first instance and saved his key pair in a safe place. He is determined to finish connecting to this instance so that he can install test software and then use his notes to create some how-to documentation for his team.\n",
    "\n",
    "But first, he needs to stretch his legs and grab some coffee."
   ]
  },
  {
   "cell_type": "markdown",
   "id": "83d1845e",
   "metadata": {},
   "source": []
  }
 ],
 "metadata": {
  "language_info": {
   "name": "python"
  }
 },
 "nbformat": 4,
 "nbformat_minor": 5
}
